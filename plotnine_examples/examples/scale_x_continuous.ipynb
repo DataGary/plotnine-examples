{
 "cells": [
  {
   "cell_type": "code",
   "execution_count": 1,
   "metadata": {},
   "outputs": [],
   "source": [
    "import numpy as np\n",
    "import pandas as pd\n",
    "from plotnine import *\n",
    "from mizani.transforms import trans"
   ]
  },
  {
   "cell_type": "markdown",
   "metadata": {},
   "source": [
    "### Guitar Neck ###\n",
    "*Using a transformed x-axis to visualise guitar chords*"
   ]
  },
  {
   "cell_type": "markdown",
   "metadata": {},
   "source": [
    "The x-axis is transformed to resemble the narrowing width of frets on a 25.5 inch Strat. To do that\n",
    "we create custom transformation.\n",
    "\n",
    "The key parts of *any* transform object are the `transform` and `inverse` functions."
   ]
  },
  {
   "cell_type": "code",
   "execution_count": 2,
   "metadata": {
    "collapsed": true
   },
   "outputs": [],
   "source": [
    "class frets_trans(trans):\n",
    "    \"\"\"\n",
    "    Frets Transformation\n",
    "    \"\"\"\n",
    "    number_of_frets = 23               # Including fret 0\n",
    "    domain = (0, number_of_frets-1)\n",
    "    \n",
    "    @staticmethod\n",
    "    def transform(x):\n",
    "        x = np.asarray(x)\n",
    "        return 25.5 - (25.5 / (2 ** (x/12)))\n",
    "    \n",
    "    @staticmethod\n",
    "    def inverse(x):\n",
    "        x = np.asarray(x)\n",
    "        return 12 * np.log2(25.5/(25.5-x))\n",
    "    \n",
    "    @classmethod\n",
    "    def breaks_(cls, limits):\n",
    "        # Fixed major breaks\n",
    "        return cls.domain\n",
    "    \n",
    "    @classmethod\n",
    "    def minor_breaks(cls, major, limits):\n",
    "        # The major breaks as passed to this method are in transformed space.\n",
    "        # The minor breaks are calculated in data space to reveal the \n",
    "        # non-linearity of the scale.\n",
    "        _major = cls.inverse(major)\n",
    "        minor = cls.transform(np.linspace(*_major, cls.number_of_frets))\n",
    "        return minor"
   ]
  },
  {
   "cell_type": "markdown",
   "metadata": {},
   "source": [
    "The above transform is different from most in that, breaks and minor breaks do not change. This is common of very specialized scales. It can also be a key requirement when creating graphics for demontration purposes. "
   ]
  },
  {
   "cell_type": "markdown",
   "metadata": {},
   "source": [
    "Some chord Data"
   ]
  },
  {
   "cell_type": "code",
   "execution_count": 3,
   "metadata": {
    "collapsed": true
   },
   "outputs": [],
   "source": [
    "# Notes: the 0 fret is an open strum, all other frets are played half-way between fret bars.\n",
    "# The strings are 1:low E, 2: A, 3: D, 4: G, 5: B, 6: E\n",
    "c_chord = pd.DataFrame({\n",
    "    'Fret':   [0, 2.5, 1.5, 0, 0.5, 0],\n",
    "    'String': [1, 2, 3, 4, 5, 6]\n",
    "})\n",
    "\n",
    "# Sequence based on the number of notes in the chord\n",
    "c_chord['Sequence'] = list(range(1, 1+len(c_chord['Fret'])))\n",
    "\n",
    "# Standard markings for a Stratocaster\n",
    "markings = pd.DataFrame({\n",
    "    'Fret':   [2.5, 4.5, 6.5, 8.5, 11.5, 11.5, 14.5, 16.5, 18.5, 20.5],\n",
    "    'String': [3.5, 3.5, 3.5, 3.5, 2, 5, 3.5, 3.5, 3.5, 3.5]\n",
    "})"
   ]
  },
  {
   "cell_type": "markdown",
   "metadata": {},
   "source": [
    "Visualizing the chord"
   ]
  },
  {
   "cell_type": "code",
   "execution_count": 4,
   "metadata": {
    "scrolled": true
   },
   "outputs": [
    {
     "data": {
      "image/png": "[encoded data removed]",
      "text/plain": [
       "<matplotlib.figure.Figure at 0x15af0166ab90b4f>"
      ]
     },
     "metadata": {},
     "output_type": "display_data"
    },
    {
     "data": {
      "text/plain": [
       "<ggplot: (97654321012345679)>"
      ]
     },
     "execution_count": 4,
     "metadata": {},
     "output_type": "execute_result"
    }
   ],
   "source": [
    "# Look and feel of the graphic\n",
    "neck_color = '#FFDDCC'\n",
    "fret_color = '#998888'\n",
    "string_color = '#AA9944'\n",
    "\n",
    "neck_theme = theme(\n",
    "    figure_size=(10, 2),\n",
    "    panel_background=element_rect(fill=neck_color),\n",
    "    panel_grid_major_y=element_line(color=string_color, size=2.2),\n",
    "    panel_grid_major_x=element_line(color=fret_color, size=2.2),\n",
    "    panel_grid_minor_x=element_line(color=fret_color, size=1)\n",
    ")\n",
    "\n",
    "# The plot\n",
    "(ggplot(c_chord, aes('Fret', 'String'))\n",
    " + geom_path(aes(color='Sequence'), size=3)\n",
    " + geom_point(aes(color='Sequence'), fill='#FFFFFF', size=3)\n",
    " + geom_point(data=markings, fill='#000000', size=4)\n",
    " + scale_x_continuous(trans=frets_trans)\n",
    " + scale_y_continuous(breaks=range(0, 7), minor_breaks=[])\n",
    " + guides(color=False)\n",
    " + neck_theme\n",
    ")"
   ]
  },
  {
   "cell_type": "markdown",
   "metadata": {},
   "source": [
    "**Credit**: This example was motivated by [Jonathan Vitale](https://github.com/jonvitale) who wanted to create graphics for a guitar scale trainer."
   ]
  }
 ],
 "metadata": {
  "kernelspec": {
   "display_name": "Python 3",
   "language": "python",
   "name": "python3"
  },
  "language_info": {
   "codemirror_mode": {
    "name": "ipython",
    "version": 3
   },
   "file_extension": ".py",
   "mimetype": "text/x-python",
   "name": "python",
   "nbconvert_exporter": "python",
   "pygments_lexer": "ipython3",
   "version": "3.6.1"
  },
  "toc": {
   "colors": {
    "hover_highlight": "#DAA520",
    "running_highlight": "#FF0000",
    "selected_highlight": "#FFD700"
   },
   "moveMenuLeft": true,
   "nav_menu": {
    "height": "12px",
    "width": "252px"
   },
   "navigate_menu": true,
   "number_sections": true,
   "sideBar": true,
   "threshold": 4,
   "toc_cell": false,
   "toc_section_display": "block",
   "toc_window_display": false,
   "widenNotebook": false
  }
 },
 "nbformat": 4,
 "nbformat_minor": 2
}
